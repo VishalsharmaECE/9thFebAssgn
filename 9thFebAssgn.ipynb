{
 "cells": [
  {
   "cell_type": "markdown",
   "id": "e8012475-4b85-4852-85a8-46bf541a4ca6",
   "metadata": {},
   "source": [
    "*Q1. Create a vehicle class with an init method having instance variables as name_of_vehicle, max_speed, vaerage_of_vehicle*"
   ]
  },
  {
   "cell_type": "code",
   "execution_count": 1,
   "id": "8074925a-25e4-4b81-9eed-574904aec8c8",
   "metadata": {},
   "outputs": [],
   "source": [
    "class vehicle:\n",
    "    def __init__(self, name_of_vehicle, max_speed, average_of_vehicle):\n",
    "        self.name_of_vehicle = name_of_vehicle\n",
    "        self.max_speed = max_speed\n",
    "        self.average_of_vehicle = average_of_vehicle\n",
    "        \n",
    "    \n",
    "    def car_details(self):\n",
    "        return self.name_of_vehicle, self.max_speed,self.average_of_vehicle "
   ]
  },
  {
   "cell_type": "code",
   "execution_count": 2,
   "id": "171aff25-241d-4859-8589-55a13039520b",
   "metadata": {},
   "outputs": [],
   "source": [
    "car1 = vehicle(\"Maruti Suzuki\", 200, 5)"
   ]
  },
  {
   "cell_type": "code",
   "execution_count": 3,
   "id": "2f2e8ee0-2262-4bad-8032-db4b8c19db0c",
   "metadata": {},
   "outputs": [
    {
     "data": {
      "text/plain": [
       "('Maruti Suzuki', 200, 5)"
      ]
     },
     "execution_count": 3,
     "metadata": {},
     "output_type": "execute_result"
    }
   ],
   "source": [
    "car1.car_details()"
   ]
  },
  {
   "cell_type": "markdown",
   "id": "40e45a46-119d-4885-ba33-6ed47d8374a9",
   "metadata": {},
   "source": [
    "*Q2. Create a child class from the vehicle class create din Q1 which will inherit vehicle class. Create a method named seating_capacity which takes capacity as an argument and returns the name of the vehicle and its seating capacity*"
   ]
  },
  {
   "cell_type": "code",
   "execution_count": 16,
   "id": "842fb398-21ab-4952-a646-87dde58415e6",
   "metadata": {},
   "outputs": [],
   "source": [
    "class car(vehicle):\n",
    "        \n",
    "    def seating_capacity(self, capacity):\n",
    "        return \"The name of the car is {} and it has a seating capacity of {}\".format(self.name_of_vehicle, capacity)\n",
    "        "
   ]
  },
  {
   "cell_type": "code",
   "execution_count": 17,
   "id": "674c800d-42cb-45fe-900f-09e49e31b4be",
   "metadata": {},
   "outputs": [],
   "source": [
    "car2 = car(\"Hyundai\",300, 6)"
   ]
  },
  {
   "cell_type": "code",
   "execution_count": 18,
   "id": "236267e8-1b80-4af9-b54b-233bc1f8109c",
   "metadata": {},
   "outputs": [
    {
     "data": {
      "text/plain": [
       "'The name of the car is Hyundai and it has a seating capacity of 8'"
      ]
     },
     "execution_count": 18,
     "metadata": {},
     "output_type": "execute_result"
    }
   ],
   "source": [
    "car2.seating_capacity(8)"
   ]
  },
  {
   "cell_type": "markdown",
   "id": "2d123338-b35e-4ba3-865c-12a62776a802",
   "metadata": {},
   "source": [
    "*Q3. What is multiple inheritance? Write a python code to demonstrate multiple inheritance.*"
   ]
  },
  {
   "cell_type": "markdown",
   "id": "b5534d2d-84ac-4b63-97fd-3f61f56f1dea",
   "metadata": {},
   "source": [
    "Multiple inheritance is a feature in object-oriented programming languages where a class can inherit properties and behavior from more than one parent class. This allows the child class to inherit attributes and methods from multiple parent classes, leading to a more reusable and flexible code.\n",
    "\n",
    "Here is an example in Python to demonstrate multiple inheritance:"
   ]
  },
  {
   "cell_type": "code",
   "execution_count": 29,
   "id": "613f103c-9e6e-4a5c-82ea-021ddcce98ef",
   "metadata": {},
   "outputs": [
    {
     "data": {
      "text/plain": [
       "'Child is a student'"
      ]
     },
     "execution_count": 29,
     "metadata": {},
     "output_type": "execute_result"
    }
   ],
   "source": [
    "class Father:\n",
    "    \n",
    "    def Profession_fath(self):\n",
    "        return \"Father is a Teacher\"\n",
    "class Mother:\n",
    "    \n",
    "    def Profession_moth(self):\n",
    "        return \"Mother is a housewife\"\n",
    "    \n",
    "class Child(Father, Mother):\n",
    "    def Profession_child(self):\n",
    "        return \"Child is a student\"\n",
    "    \n",
    "child_obj = Child()\n",
    "\n",
    "child_obj.Profession_child()\n"
   ]
  },
  {
   "cell_type": "code",
   "execution_count": 30,
   "id": "e54c102c-614a-48c2-8d39-0df0ea170a2e",
   "metadata": {},
   "outputs": [
    {
     "data": {
      "text/plain": [
       "'Father is a Teacher'"
      ]
     },
     "execution_count": 30,
     "metadata": {},
     "output_type": "execute_result"
    }
   ],
   "source": [
    "child_obj.Profession_fath()"
   ]
  },
  {
   "cell_type": "code",
   "execution_count": 31,
   "id": "b582518b-60ad-4846-a4be-f88cb0f2b810",
   "metadata": {},
   "outputs": [
    {
     "data": {
      "text/plain": [
       "'Mother is a housewife'"
      ]
     },
     "execution_count": 31,
     "metadata": {},
     "output_type": "execute_result"
    }
   ],
   "source": [
    "child_obj.Profession_moth()"
   ]
  },
  {
   "cell_type": "markdown",
   "id": "f21f6f22-c28e-4abf-803a-b59d7b2222aa",
   "metadata": {},
   "source": [
    "Thus the child class inherits the methods of both father and mother and using the child class we can invoke the methods of father and mother class"
   ]
  },
  {
   "cell_type": "markdown",
   "id": "41ead4e0-e001-4a39-85df-1844ad7b8a9a",
   "metadata": {},
   "source": [
    "*Q4. What are getter and setter methods in Python? Create a class and create a getter and setter method in this class*"
   ]
  },
  {
   "cell_type": "markdown",
   "id": "bdcec6a6-b2a9-4ca9-aee9-a9ae6c0cb262",
   "metadata": {},
   "source": [
    "In Python, getters and setters are not the same as those in other object-oriented programming languages. Basically, the main purpose of using getters and setters in object-oriented programs is to ensure data encapsulation. Private variables in python are not actually hidden fields like in other object oriented languages. Getters and Setters in python are used for the following reasons 1)To add validation logic around getting and setting a value. 2)To avoid direct access of a class field i.e. private variables cannot be accessed directly or modified by external user.\n",
    "\n",
    "A getter is a method that gets the value of a property.\n",
    "\n",
    "A setter is a method that sets the value of a property.\n",
    "\n",
    "There are many ways to create getter and setters in Python. The most pythonic wasy is using @property decorator.\n",
    "\n",
    "The example below demonstrate the following:"
   ]
  },
  {
   "cell_type": "code",
   "execution_count": 34,
   "id": "f9791cc2-6095-4713-aafd-89ecaf655dc0",
   "metadata": {},
   "outputs": [
    {
     "name": "stdout",
     "output_type": "stream",
     "text": [
      "Cheetohs\n",
      "Cheetahs\n"
     ]
    }
   ],
   "source": [
    "class Animalia:\n",
    "    def __init__(self, animal_name, animal_count):\n",
    "        self.__animal_name = animal_name\n",
    "        self.__animal_count = animal_count\n",
    "\n",
    "    @property                # getter for modifying name attribute\n",
    "    def animal_name(self):\n",
    "        return self.__animal_name\n",
    "\n",
    "    @animal_name.setter             # setter for modifying name attribute\n",
    "    def animal_name(self, animal_name):\n",
    "        self.__animal_name = animal_name\n",
    "\n",
    "    @property                #getter for retrieving age attribute\n",
    "    def animal_count(self):\n",
    "        return self.__animal_count\n",
    "\n",
    "    @animal_count.setter             #setter for modifying age attribute\n",
    "    def animal_count(self, animal_count):\n",
    "        self.__animal_count = animal_count\n",
    "Animal1  = Animalia(\"Cheetohs\", 20000)\n",
    "print(Animal1.animal_name)  # Output: Cheetohs\n",
    "Animal1.animal_name = \"Cheetahs\"\n",
    "print(Animal1.animal_name)  # Output: Cheetahs"
   ]
  },
  {
   "cell_type": "markdown",
   "id": "2d7859e9-0d56-4ca8-8fb9-ab50024b9144",
   "metadata": {},
   "source": [
    "In this example, we use the property decorator to define the getter and setter methods for the name and age properties. The property decorator is used to create a read-only property, and the property.setter decorator is used to define a setter method for the property. This allows us to access and modify the properties of the Person object as if they were regular attributes, while still providing a controlled access to them."
   ]
  },
  {
   "cell_type": "markdown",
   "id": "5791f85f-9290-4136-b909-3cdd1fdef39d",
   "metadata": {},
   "source": [
    "*Q5. What is method over riding in Python ? Write a code to demonstrate method over riding in Python*"
   ]
  },
  {
   "cell_type": "markdown",
   "id": "927a7821-2cdc-4fa9-96ba-aa879935e939",
   "metadata": {},
   "source": [
    "Method overriding is a feature in object-oriented programming that allows a subclass to provide a specific implementation of a method that is already defined in its superclass. The purpose of method overriding is to allow a subclass to extend or modify the behavior of the superclass method.\n",
    "\n",
    "Here's an example of method overriding in Python:"
   ]
  },
  {
   "cell_type": "code",
   "execution_count": 37,
   "id": "23f76569-6aea-42a4-b8c1-24dbf2dbd3bb",
   "metadata": {},
   "outputs": [
    {
     "data": {
      "text/plain": [
       "' A swift combat vehicle '"
      ]
     },
     "execution_count": 37,
     "metadata": {},
     "output_type": "execute_result"
    }
   ],
   "source": [
    "#Parent Class\n",
    "class Flying_objects:\n",
    "    def characteristics(self):\n",
    "        return \" Has wings\"\n",
    "\n",
    "# Child class\n",
    "class Fighter_jets(Flying_objects):\n",
    "    def characteristics(self):\n",
    "        return \" A swift combat vehicle \"\n",
    "    \n",
    "Tejas = Fighter_jets()\n",
    "Tejas.characteristics()"
   ]
  },
  {
   "cell_type": "markdown",
   "id": "d7b04939-11ec-41eb-8f9f-f620610a9f7f",
   "metadata": {},
   "source": [
    "In this example, we have two classes, Flying_objects and Fighter_jets, where Fighter_jets  is a subclass of Flying_objects . The Flying_objects  class has a method characteristics which returns  \" Has wings\". The Fighter_jets class overrides this method by providing its own implementation, which returns \" A swift combat vehicle \".\n",
    "\n",
    "When we create an instance of the Fighter_jets class and call the characteristics method, it invokes the implementation in the Fighter_jets class, not the one in the Flying_objects class."
   ]
  },
  {
   "cell_type": "code",
   "execution_count": null,
   "id": "9573e5db-5d36-4dd5-8d2d-6ee65a17460a",
   "metadata": {},
   "outputs": [],
   "source": []
  }
 ],
 "metadata": {
  "kernelspec": {
   "display_name": "Python 3 (ipykernel)",
   "language": "python",
   "name": "python3"
  },
  "language_info": {
   "codemirror_mode": {
    "name": "ipython",
    "version": 3
   },
   "file_extension": ".py",
   "mimetype": "text/x-python",
   "name": "python",
   "nbconvert_exporter": "python",
   "pygments_lexer": "ipython3",
   "version": "3.10.8"
  }
 },
 "nbformat": 4,
 "nbformat_minor": 5
}
